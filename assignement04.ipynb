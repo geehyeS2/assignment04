{
 "cells": [
  {
   "cell_type": "markdown",
   "metadata": {},
   "source": [
    "#### This is script implement k-means algorithm\n",
    "\n",
    "#### Name : Jee-Hye Yang\n",
    "\n",
    "#### Student ID : 20145708\n",
    "\n",
    "#### GitHub address : https://github.com/geehyeS2/assignment04"
   ]
  },
  {
   "cell_type": "code",
   "execution_count": 122,
   "metadata": {},
   "outputs": [],
   "source": [
    "import matplotlib.pyplot as plt\n",
    "import numpy as np\n",
    "import pandas as pd\n",
    "from sklearn.cluster import KMeans\n",
    "from sklearn.datasets.samples_generator import make_blobs"
   ]
  },
  {
   "cell_type": "markdown",
   "metadata": {},
   "source": [
    "#### open the date file"
   ]
  },
  {
   "cell_type": "code",
   "execution_count": 123,
   "metadata": {},
   "outputs": [],
   "source": [
    "file_data   = \"mnist_test.csv\"\n",
    "handle_file = open(file_data, \"r\")\n",
    "data        = handle_file.readlines()\n",
    "handle_file.close()\n",
    "\n",
    "size_row    = 28    # height of the image\n",
    "size_col    = 28    # width of the image\n",
    "\n",
    "num_image   = len(data)\n",
    "count       = 0     # count for the number of images"
   ]
  },
  {
   "cell_type": "markdown",
   "metadata": {},
   "source": [
    "#### Defined Normalize Function"
   ]
  },
  {
   "cell_type": "code",
   "execution_count": 124,
   "metadata": {},
   "outputs": [],
   "source": [
    "def normalize(data):\n",
    "\n",
    "    data_normalized = (data - min(data)) / (max(data) - min(data))\n",
    "\n",
    "    return(data_normalized)\n",
    "\n",
    "list_image  = np.empty((size_row * size_col, num_image), dtype=float)\n",
    "list_label  = np.empty(num_image, dtype=int)"
   ]
  },
  {
   "cell_type": "markdown",
   "metadata": {},
   "source": [
    "#### make a matrix each column of which represents an images in a vector form "
   ]
  },
  {
   "cell_type": "code",
   "execution_count": 125,
   "metadata": {},
   "outputs": [],
   "source": [
    "for line in data:\n",
    "\n",
    "    line_data   = line.split(',')\n",
    "    label       = line_data[0]\n",
    "    im_vector   = np.asfarray(line_data[1:])\n",
    "    im_vector   = normalize(im_vector)\n",
    "\n",
    "    list_label[count]       = label\n",
    "    list_image[:, count]    = im_vector    \n",
    "\n",
    "    count += 1"
   ]
  },
  {
   "cell_type": "markdown",
   "metadata": {},
   "source": [
    "#### use KMeans library compute centroid and labels"
   ]
  },
  {
   "cell_type": "code",
   "execution_count": 126,
   "metadata": {},
   "outputs": [
    {
     "name": "stdout",
     "output_type": "stream",
     "text": [
      "[[ 2.60141303e-02  4.29308566e-02  2.88163849e-03 ...  1.25506073e-02\n",
      "   1.94808288e-02  2.93442571e-02]\n",
      " [ 3.43137255e-01  2.79487179e-01  2.80542986e-02 ...  4.23227753e-01\n",
      "   1.14177979e-01  3.88703816e-01]\n",
      " [ 6.13610150e-02  3.82929642e-01  1.41983852e-01 ...  2.85813149e-01\n",
      "   3.17762399e-01  3.85247800e-01]\n",
      " ...\n",
      " [ 6.79738562e-02  5.93572985e-01  4.13943355e-03 ...  2.63616558e-02\n",
      "   1.11022302e-16  4.49037620e-01]\n",
      " [ 1.18840580e-01  4.66666667e-01  4.72293265e-01 ...  5.29070759e-01\n",
      "   7.57544757e-01  3.50907224e-02]\n",
      " [ 8.47609219e-02  6.24011008e-02 -2.08166817e-17 ...  2.53181975e-02\n",
      "   2.40041280e-01  5.38472165e-01]]\n",
      "[0 0 0 0 0 0 0 0 0 0 0 0 0 0 0 0 0 0 0 0 0 0 0 0 0 0 0 0 0 0 0 0 0 0 0 0 0\n",
      " 0 0 0 0 0 0 0 0 0 0 0 0 0 0 0 0 0 0 0 0 0 0 0 0 0 0 0 0 0 0 0 0 0 0 0 0 0\n",
      " 0 0 0 0 0 0 0 0 0 0 0 0 0 0 0 0 0 0 0 0 0 0 0 0 0 0 0 0 0 0 0 0 0 0 0 0 0\n",
      " 0 0 0 0 0 0 0 0 0 0 0 0 0 7 7 7 7 7 0 0 0 0 0 0 0 0 0 0 0 0 0 0 0 0 0 0 0\n",
      " 0 0 7 7 7 7 7 2 2 2 2 2 0 0 0 0 0 0 0 0 0 0 0 0 0 0 0 0 0 7 7 7 7 1 1 4 4\n",
      " 2 2 2 2 0 0 0 0 0 0 0 0 0 0 0 0 0 0 0 7 7 7 1 1 1 4 4 4 4 2 2 2 9 0 0 0 0\n",
      " 0 0 0 0 0 0 0 0 0 0 7 1 1 1 1 4 4 4 4 4 6 2 2 9 9 0 0 0 0 0 0 0 0 0 0 0 0\n",
      " 0 9 1 1 1 5 4 4 4 8 8 6 6 9 9 9 0 0 0 0 0 0 0 0 0 0 0 0 9 9 1 5 5 5 4 4 8\n",
      " 8 8 6 6 9 9 9 0 0 0 0 0 0 0 0 0 0 0 0 9 9 5 5 5 5 8 8 8 8 6 6 6 9 9 9 0 0\n",
      " 0 0 0 0 0 0 0 0 0 9 9 9 5 5 5 8 8 8 8 8 6 6 6 9 9 9 0 0 0 0 0 0 0 0 0 0 0\n",
      " 9 9 5 5 5 5 8 8 8 8 8 6 6 5 9 9 9 0 0 0 0 0 0 0 0 0 0 0 9 9 5 5 5 5 8 8 8\n",
      " 8 6 6 6 5 9 9 9 0 0 0 0 0 0 0 0 0 0 0 9 9 5 5 5 5 3 3 3 3 6 6 6 5 9 9 9 0\n",
      " 0 0 0 0 0 0 0 0 0 0 9 9 9 5 5 3 3 3 3 3 6 6 5 5 9 9 9 0 0 0 0 0 0 0 0 0 0\n",
      " 0 9 9 9 9 3 3 3 3 3 6 6 6 5 5 7 9 9 0 0 0 0 0 0 0 0 0 0 0 9 9 9 9 3 3 3 3\n",
      " 3 6 6 5 5 7 7 7 0 0 0 0 0 0 0 0 0 0 0 0 9 9 2 2 3 3 3 3 3 6 6 5 5 7 7 7 0\n",
      " 0 0 0 0 0 0 0 0 0 0 0 9 2 2 2 2 3 3 4 4 4 1 1 7 7 7 7 0 0 0 0 0 0 0 0 0 0\n",
      " 0 0 0 2 2 2 2 2 4 4 4 1 1 1 7 7 7 0 0 0 0 0 0 0 0 0 0 0 0 0 0 2 2 2 2 2 4\n",
      " 4 1 1 1 7 7 7 0 0 0 0 0 0 0 0 0 0 0 0 0 0 0 0 2 2 2 2 1 1 1 1 1 7 0 0 0 0\n",
      " 0 0 0 0 0 0 0 0 0 0 0 0 0 0 0 0 0 0 0 0 0 0 0 0 0 0 0 0 0 0 0 0 0 0 0 0 0\n",
      " 0 0 0 0 0 0 0 0 0 0 0 0 0 0 0 0 0 0 0 0 0 0 0 0 0 0 0 0 0 0 0 0 0 0 0 0 0\n",
      " 0 0 0 0 0 0 0 0 0 0 0 0 0 0 0 0 0 0 0 0 0 0 0 0 0 0 0 0 0 0 0 0 0 0 0 0 0\n",
      " 0 0 0 0 0 0 0]\n"
     ]
    }
   ],
   "source": [
    "kmeans = KMeans(n_clusters=10)\n",
    "kmeans.fit(list_image)\n",
    "\n",
    "centroid = kmeans.cluster_centers_\n",
    "labels = kmeans.labels_\n",
    "\n",
    "print (centroid)\n",
    "print(labels)\n"
   ]
  },
  {
   "cell_type": "markdown",
   "metadata": {},
   "source": [
    "#### defined computeDistance function"
   ]
  },
  {
   "cell_type": "code",
   "execution_count": 127,
   "metadata": {},
   "outputs": [
    {
     "ename": "IndentationError",
     "evalue": "unexpected indent (<ipython-input-127-1cff1c6ae793>, line 4)",
     "output_type": "error",
     "traceback": [
      "\u001b[0;36m  File \u001b[0;32m\"<ipython-input-127-1cff1c6ae793>\"\u001b[0;36m, line \u001b[0;32m4\u001b[0m\n\u001b[0;31m    r = np.sqrt(d)\u001b[0m\n\u001b[0m    ^\u001b[0m\n\u001b[0;31mIndentationError\u001b[0m\u001b[0;31m:\u001b[0m unexpected indent\n"
     ]
    }
   ],
   "source": [
    "def computeDistance(x, y):\n",
    "\n",
    "    d = (x - y) ** 2\n",
    "     r = np.sqrt(d)\n",
    "\n",
    "    return(r)"
   ]
  },
  {
   "cell_type": "markdown",
   "metadata": {},
   "source": [
    "#### defined computeDistance function"
   ]
  },
  {
   "cell_type": "code",
   "execution_count": null,
   "metadata": {},
   "outputs": [],
   "source": [
    "def computeCentroid(x1,x2):\n",
    "\n",
    "    m = (x1 + x2)/2\n",
    "\n",
    "    return(m)"
   ]
  }
 ],
 "metadata": {
  "kernelspec": {
   "display_name": "Python 3",
   "language": "python",
   "name": "python3"
  },
  "language_info": {
   "codemirror_mode": {
    "name": "ipython",
    "version": 3
   },
   "file_extension": ".py",
   "mimetype": "text/x-python",
   "name": "python",
   "nbconvert_exporter": "python",
   "pygments_lexer": "ipython3",
   "version": "3.6.5"
  }
 },
 "nbformat": 4,
 "nbformat_minor": 2
}
